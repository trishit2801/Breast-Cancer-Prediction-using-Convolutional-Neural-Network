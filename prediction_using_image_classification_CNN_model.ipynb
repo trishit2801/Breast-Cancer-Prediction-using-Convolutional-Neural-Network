{
 "cells": [
  {
   "cell_type": "code",
   "execution_count": 1,
   "id": "planned-wesley",
   "metadata": {},
   "outputs": [],
   "source": [
    "import tensorflow as tf\n",
    "import numpy as np\n",
    "from tensorflow import keras\n",
    "import os\n",
    "import cv2\n",
    "import pickle\n",
    "import random\n",
    "from shutil import copyfile\n",
    "from tensorflow.keras.optimizers import Adam\n",
    "from tensorflow.keras.preprocessing.image import ImageDataGenerator\n",
    "from tensorflow.keras.preprocessing import image\n",
    "import matplotlib.pyplot as plt"
   ]
  },
  {
   "cell_type": "code",
   "execution_count": 3,
   "id": "advanced-network",
   "metadata": {},
   "outputs": [],
   "source": [
    "def split_data(SOURCE, TRAINING, TESTING, SPLIT_SIZE):\n",
    "    dataset = []\n",
    "    \n",
    "    for unitData in os.listdir(SOURCE):\n",
    "        data = SOURCE + unitData\n",
    "        if(os.path.getsize(data) > 0):\n",
    "            dataset.append(unitData)\n",
    "        else:\n",
    "            print('Skipped ' + unitData)\n",
    "            print('Invalid file i.e zero size')\n",
    "    \n",
    "    train_set_length = int(len(dataset) * SPLIT_SIZE)\n",
    "    test_set_length = int(len(dataset) - train_set_length)\n",
    "    shuffled_set = random.sample(dataset, len(dataset))\n",
    "    train_set = dataset[0:train_set_length]\n",
    "    test_set = dataset[-test_set_length:]\n",
    "       \n",
    "    for unitData in train_set:\n",
    "        temp_train_set = SOURCE + unitData\n",
    "        final_train_set = TRAINING + unitData\n",
    "        copyfile(temp_train_set, final_train_set)\n",
    "    \n",
    "    for unitData in test_set:\n",
    "        temp_test_set = SOURCE + unitData\n",
    "        final_test_set = TESTING + unitData\n",
    "        copyfile(temp_test_set, final_test_set)\n",
    "        \n",
    "        \n",
    "MALIGNANT_SOURCE_DIR = \"/Users/trishit/Code/Udemy/Tensorflow-Bootcamp/Breast-Cancer-Prediction-using-Deep-Learning/dataset/malignant/\"\n",
    "TRAINING_MALIGNANT_DIR = \"/Users/trishit/Code/Udemy/Tensorflow-Bootcamp/Breast-Cancer-Prediction-using-Deep-Learning/dataset/train/malignant/\"\n",
    "TESTING_MALIGNANT_DIR = \"/Users/trishit/Code/Udemy/Tensorflow-Bootcamp/Breast-Cancer-Prediction-using-Deep-Learning/dataset/test/malignant/\"\n",
    "BENIGN_SOURCE_DIR = \"/Users/trishit/Code/Udemy/Tensorflow-Bootcamp/Breast-Cancer-Prediction-using-Deep-Learning/dataset/benign/\"\n",
    "TRAINING_BENIGN_DIR = \"/Users/trishit/Code/Udemy/Tensorflow-Bootcamp/Breast-Cancer-Prediction-using-Deep-Learning/dataset/train/benign/\"\n",
    "TESTING_BENIGN_DIR = \"/Users/trishit/Code/Udemy/Tensorflow-Bootcamp/Breast-Cancer-Prediction-using-Deep-Learning/dataset/test/benign/\"\n",
    "split_size = .8\n",
    "split_data(MALIGNANT_SOURCE_DIR, TRAINING_MALIGNANT_DIR, TESTING_MALIGNANT_DIR, split_size)\n",
    "split_data(BENIGN_SOURCE_DIR, TRAINING_BENIGN_DIR, TESTING_BENIGN_DIR, split_size)"
   ]
  },
  {
   "cell_type": "code",
   "execution_count": 2,
   "id": "apart-blend",
   "metadata": {},
   "outputs": [
    {
     "name": "stdout",
     "output_type": "stream",
     "text": [
      "Training set with malignant cells 12313\n",
      "Training set with benign cells 12075\n",
      "Test set with malignant cells 3079\n",
      "Test set with benign cells 3019\n"
     ]
    }
   ],
   "source": [
    "print(\"Training set with malignant cells\",len(os.listdir('/Users/trishit/Code/Udemy/Tensorflow-Bootcamp/Breast-Cancer-Prediction-using-Deep-Learning/dataset/train/malignant/')))\n",
    "\n",
    "print(\"Training set with benign cells\",len(os.listdir('/Users/trishit/Code/Udemy/Tensorflow-Bootcamp/Breast-Cancer-Prediction-using-Deep-Learning/dataset/train/benign/')))\n",
    "\n",
    "print(\"Test set with malignant cells\",len(os.listdir('/Users/trishit/Code/Udemy/Tensorflow-Bootcamp/Breast-Cancer-Prediction-using-Deep-Learning/dataset/test/malignant/')))\n",
    "\n",
    "print(\"Test set with benign cells\",len(os.listdir('/Users/trishit/Code/Udemy/Tensorflow-Bootcamp/Breast-Cancer-Prediction-using-Deep-Learning/dataset/test/benign/')))"
   ]
  },
  {
   "cell_type": "code",
   "execution_count": 3,
   "id": "seasonal-questionnaire",
   "metadata": {},
   "outputs": [],
   "source": [
    "train_data = ImageDataGenerator(rescale=1/255)\n",
    "test_data = ImageDataGenerator(rescale=1/255)"
   ]
  },
  {
   "cell_type": "code",
   "execution_count": 4,
   "id": "excess-imagination",
   "metadata": {},
   "outputs": [
    {
     "name": "stdout",
     "output_type": "stream",
     "text": [
      "Found 24388 images belonging to 2 classes.\n",
      "Found 6098 images belonging to 2 classes.\n"
     ]
    }
   ],
   "source": [
    "train_datagen = train_data.flow_from_directory(\"/Users/trishit/Code/Udemy/Tensorflow-Bootcamp/Breast-Cancer-Prediction-using-Deep-Learning/dataset/train\",\n",
    "                                              target_size=(150,150), batch_size=32, class_mode='binary')\n",
    "\n",
    "test_datagen = test_data.flow_from_directory(\"/Users/trishit/Code/Udemy/Tensorflow-Bootcamp/Breast-Cancer-Prediction-using-Deep-Learning/dataset/test\",\n",
    "                                              target_size=(150,150), batch_size=32, class_mode='binary')"
   ]
  },
  {
   "cell_type": "code",
   "execution_count": 5,
   "id": "ambient-legislature",
   "metadata": {},
   "outputs": [
    {
     "data": {
      "text/plain": [
       "{'benign': 0, 'malignant': 1}"
      ]
     },
     "execution_count": 5,
     "metadata": {},
     "output_type": "execute_result"
    }
   ],
   "source": [
    "test_datagen.class_indices"
   ]
  },
  {
   "cell_type": "code",
   "execution_count": 6,
   "id": "technical-washington",
   "metadata": {},
   "outputs": [
    {
     "name": "stdout",
     "output_type": "stream",
     "text": [
      "WARNING:tensorflow:From /opt/anaconda3/envs/tfdeeplearning/lib/python3.5/site-packages/tensorflow_core/python/ops/resource_variable_ops.py:1630: calling BaseResourceVariable.__init__ (from tensorflow.python.ops.resource_variable_ops) with constraint is deprecated and will be removed in a future version.\n",
      "Instructions for updating:\n",
      "If using Keras pass *_constraint arguments to layers.\n"
     ]
    }
   ],
   "source": [
    "# Creating the Image Classification CNN Model\n",
    "\n",
    "model = keras.Sequential()\n",
    "\n",
    "#Covolution layer and Max Pool layer 1\n",
    "model.add(keras.layers.Conv2D(32,(3,3), activation='relu', input_shape = (150,150,3)))\n",
    "model.add(keras.layers.MaxPool2D(2,2))\n",
    "\n",
    "#Covolution layer and Max Pool layer 2\n",
    "model.add(keras.layers.Conv2D(64,(3,3), activation='relu'))\n",
    "model.add(keras.layers.MaxPool2D(2,2))\n",
    "\n",
    "#Covolution layer and Max Pool layer 3\n",
    "model.add(keras.layers.Conv2D(64,(3,3), activation='relu'))\n",
    "model.add(keras.layers.MaxPool2D(2,2))\n",
    "\n",
    "#Covolution layer and Max Pool layer 4\n",
    "model.add(keras.layers.Conv2D(128,(3,3), activation='relu'))\n",
    "model.add(keras.layers.MaxPool2D(2,2))\n",
    "\n",
    "#Covolution layer and Max Pool layer 5\n",
    "model.add(keras.layers.Conv2D(128,(3,3), activation='relu'))\n",
    "model.add(keras.layers.MaxPool2D(2,2))\n",
    "\n",
    "\n",
    "#Converting the multidimensional image data array into 1d array\n",
    "model.add(keras.layers.Flatten())\n",
    "\n",
    "# Hidden layer with 2048 neurons and Rectified Linear Unit activation function \n",
    "# Fully connected layer to increase the accuracy\n",
    "model.add(keras.layers.Dense(2048,activation='relu'))\n",
    "\n",
    "# Output layer with single neuron which gives 0 for benign or 1 for malignant \n",
    "#Here we use sigmoid activation function which makes our model output to lie between 0 and 1\n",
    "model.add(keras.layers.Dense(1,activation='sigmoid')) "
   ]
  },
  {
   "cell_type": "code",
   "execution_count": 7,
   "id": "limiting-enclosure",
   "metadata": {},
   "outputs": [
    {
     "name": "stdout",
     "output_type": "stream",
     "text": [
      "Model: \"sequential\"\n",
      "_________________________________________________________________\n",
      "Layer (type)                 Output Shape              Param #   \n",
      "=================================================================\n",
      "conv2d (Conv2D)              (None, 148, 148, 32)      896       \n",
      "_________________________________________________________________\n",
      "max_pooling2d (MaxPooling2D) (None, 74, 74, 32)        0         \n",
      "_________________________________________________________________\n",
      "conv2d_1 (Conv2D)            (None, 72, 72, 64)        18496     \n",
      "_________________________________________________________________\n",
      "max_pooling2d_1 (MaxPooling2 (None, 36, 36, 64)        0         \n",
      "_________________________________________________________________\n",
      "conv2d_2 (Conv2D)            (None, 34, 34, 64)        36928     \n",
      "_________________________________________________________________\n",
      "max_pooling2d_2 (MaxPooling2 (None, 17, 17, 64)        0         \n",
      "_________________________________________________________________\n",
      "conv2d_3 (Conv2D)            (None, 15, 15, 128)       73856     \n",
      "_________________________________________________________________\n",
      "max_pooling2d_3 (MaxPooling2 (None, 7, 7, 128)         0         \n",
      "_________________________________________________________________\n",
      "conv2d_4 (Conv2D)            (None, 5, 5, 128)         147584    \n",
      "_________________________________________________________________\n",
      "max_pooling2d_4 (MaxPooling2 (None, 2, 2, 128)         0         \n",
      "_________________________________________________________________\n",
      "flatten (Flatten)            (None, 512)               0         \n",
      "_________________________________________________________________\n",
      "dense (Dense)                (None, 2048)              1050624   \n",
      "_________________________________________________________________\n",
      "dense_1 (Dense)              (None, 1)                 2049      \n",
      "=================================================================\n",
      "Total params: 1,330,433\n",
      "Trainable params: 1,330,433\n",
      "Non-trainable params: 0\n",
      "_________________________________________________________________\n"
     ]
    }
   ],
   "source": [
    "model.summary()"
   ]
  },
  {
   "cell_type": "code",
   "execution_count": 8,
   "id": "young-forwarding",
   "metadata": {},
   "outputs": [
    {
     "name": "stdout",
     "output_type": "stream",
     "text": [
      "WARNING:tensorflow:From /opt/anaconda3/envs/tfdeeplearning/lib/python3.5/site-packages/tensorflow_core/python/ops/nn_impl.py:183: where (from tensorflow.python.ops.array_ops) is deprecated and will be removed in a future version.\n",
      "Instructions for updating:\n",
      "Use tf.where in 2.0, which has the same broadcast rule as np.where\n"
     ]
    }
   ],
   "source": [
    "# Defining the optimizer and the loss function. \n",
    "model.compile(optimizer=Adam(lr=0.00001),loss='binary_crossentropy',metrics=['accuracy'])"
   ]
  },
  {
   "cell_type": "code",
   "execution_count": 11,
   "id": "pregnant-spouse",
   "metadata": {},
   "outputs": [
    {
     "name": "stdout",
     "output_type": "stream",
     "text": [
      "Epoch 1/20\n",
      "762/763 [============================>.] - ETA: 0s - loss: 0.6307 - acc: 0.6434Epoch 1/20\n",
      "763/763 [==============================] - 295s 387ms/step - loss: 0.6307 - acc: 0.6434 - val_loss: 0.5441 - val_acc: 0.7463\n",
      "Epoch 2/20\n",
      "762/763 [============================>.] - ETA: 0s - loss: 0.5336 - acc: 0.7557Epoch 1/20\n",
      "763/763 [==============================] - 311s 407ms/step - loss: 0.5335 - acc: 0.7559 - val_loss: 0.5381 - val_acc: 0.7430\n",
      "Epoch 3/20\n",
      "762/763 [============================>.] - ETA: 0s - loss: 0.5163 - acc: 0.7670Epoch 1/20\n",
      "763/763 [==============================] - 717s 940ms/step - loss: 0.5161 - acc: 0.7672 - val_loss: 0.5124 - val_acc: 0.7684\n",
      "Epoch 4/20\n",
      "762/763 [============================>.] - ETA: 0s - loss: 0.5101 - acc: 0.7706Epoch 1/20\n",
      "763/763 [==============================] - 334s 437ms/step - loss: 0.5102 - acc: 0.7704 - val_loss: 0.5213 - val_acc: 0.7591\n",
      "Epoch 5/20\n",
      "762/763 [============================>.] - ETA: 0s - loss: 0.5041 - acc: 0.7713Epoch 1/20\n",
      "763/763 [==============================] - 343s 450ms/step - loss: 0.5039 - acc: 0.7714 - val_loss: 0.5023 - val_acc: 0.7739\n",
      "Epoch 6/20\n",
      "762/763 [============================>.] - ETA: 0s - loss: 0.4990 - acc: 0.7735Epoch 1/20\n",
      "763/763 [==============================] - 344s 451ms/step - loss: 0.4990 - acc: 0.7735 - val_loss: 0.5237 - val_acc: 0.7558\n",
      "Epoch 7/20\n",
      "762/763 [============================>.] - ETA: 0s - loss: 0.4945 - acc: 0.7771Epoch 1/20\n",
      "763/763 [==============================] - 346s 453ms/step - loss: 0.4944 - acc: 0.7771 - val_loss: 0.5097 - val_acc: 0.7657\n",
      "Epoch 8/20\n",
      "762/763 [============================>.] - ETA: 0s - loss: 0.4905 - acc: 0.7768Epoch 1/20\n",
      "763/763 [==============================] - 343s 449ms/step - loss: 0.4905 - acc: 0.7768 - val_loss: 0.5010 - val_acc: 0.7680\n",
      "Epoch 9/20\n",
      "762/763 [============================>.] - ETA: 0s - loss: 0.4865 - acc: 0.7796Epoch 1/20\n",
      "763/763 [==============================] - 344s 451ms/step - loss: 0.4865 - acc: 0.7796 - val_loss: 0.5084 - val_acc: 0.7548\n",
      "Epoch 10/20\n",
      "762/763 [============================>.] - ETA: 0s - loss: 0.4832 - acc: 0.7789Epoch 1/20\n",
      "763/763 [==============================] - 348s 456ms/step - loss: 0.4833 - acc: 0.7788 - val_loss: 0.4880 - val_acc: 0.7744\n",
      "Epoch 11/20\n",
      "762/763 [============================>.] - ETA: 0s - loss: 0.4798 - acc: 0.7813Epoch 1/20\n",
      "763/763 [==============================] - 351s 460ms/step - loss: 0.4799 - acc: 0.7813 - val_loss: 0.4865 - val_acc: 0.7740\n",
      "Epoch 12/20\n",
      "762/763 [============================>.] - ETA: 0s - loss: 0.4742 - acc: 0.7845Epoch 1/20\n",
      "763/763 [==============================] - 506s 663ms/step - loss: 0.4742 - acc: 0.7846 - val_loss: 0.4750 - val_acc: 0.7814\n",
      "Epoch 13/20\n",
      "762/763 [============================>.] - ETA: 0s - loss: 0.4698 - acc: 0.7887Epoch 1/20\n",
      "763/763 [==============================] - 343s 450ms/step - loss: 0.4699 - acc: 0.7885 - val_loss: 0.4674 - val_acc: 0.7848\n",
      "Epoch 14/20\n",
      "762/763 [============================>.] - ETA: 0s - loss: 0.4646 - acc: 0.7894Epoch 1/20\n",
      "763/763 [==============================] - 350s 459ms/step - loss: 0.4647 - acc: 0.7894 - val_loss: 0.4747 - val_acc: 0.7842\n",
      "Epoch 15/20\n",
      "762/763 [============================>.] - ETA: 0s - loss: 0.4619 - acc: 0.7915Epoch 1/20\n",
      "763/763 [==============================] - 345s 453ms/step - loss: 0.4620 - acc: 0.7914 - val_loss: 0.4612 - val_acc: 0.7909\n",
      "Epoch 16/20\n",
      "762/763 [============================>.] - ETA: 0s - loss: 0.4588 - acc: 0.7918Epoch 1/20\n",
      "763/763 [==============================] - 349s 457ms/step - loss: 0.4587 - acc: 0.7919 - val_loss: 0.4598 - val_acc: 0.7893\n",
      "Epoch 17/20\n",
      "762/763 [============================>.] - ETA: 0s - loss: 0.4515 - acc: 0.7984Epoch 1/20\n",
      "763/763 [==============================] - 349s 457ms/step - loss: 0.4516 - acc: 0.7983 - val_loss: 0.4627 - val_acc: 0.7881\n",
      "Epoch 18/20\n",
      "762/763 [============================>.] - ETA: 0s - loss: 0.4476 - acc: 0.8003Epoch 1/20\n",
      "763/763 [==============================] - 349s 458ms/step - loss: 0.4477 - acc: 0.8002 - val_loss: 0.4531 - val_acc: 0.7970\n",
      "Epoch 19/20\n",
      "762/763 [============================>.] - ETA: 0s - loss: 0.4423 - acc: 0.8030Epoch 1/20\n",
      "763/763 [==============================] - 350s 458ms/step - loss: 0.4422 - acc: 0.8031 - val_loss: 0.4475 - val_acc: 0.7975\n",
      "Epoch 20/20\n",
      "762/763 [============================>.] - ETA: 0s - loss: 0.4421 - acc: 0.8022Epoch 1/20\n",
      "763/763 [==============================] - 346s 453ms/step - loss: 0.4420 - acc: 0.8022 - val_loss: 0.4436 - val_acc: 0.8040\n"
     ]
    },
    {
     "data": {
      "text/plain": [
       "<tensorflow.python.keras.callbacks.History at 0x7fcbad9b2f98>"
      ]
     },
     "execution_count": 11,
     "metadata": {},
     "output_type": "execute_result"
    }
   ],
   "source": [
    "# Training the Model\n",
    "\n",
    "model.fit_generator(train_datagen, \n",
    "                    epochs = 20,\n",
    "                    validation_data = test_datagen)"
   ]
  },
  {
   "cell_type": "code",
   "execution_count": 36,
   "id": "ideal-record",
   "metadata": {},
   "outputs": [
    {
     "ename": "AttributeError",
     "evalue": "'Sequential' object has no attribute 'history'",
     "output_type": "error",
     "traceback": [
      "\u001b[0;31m---------------------------------------------------------------------------\u001b[0m",
      "\u001b[0;31mAttributeError\u001b[0m                            Traceback (most recent call last)",
      "\u001b[0;32m<ipython-input-36-a1a0bb2f50cd>\u001b[0m in \u001b[0;36m<module>\u001b[0;34m\u001b[0m\n\u001b[1;32m      1\u001b[0m \u001b[0;31m# Training summary of the model\u001b[0m\u001b[0;34m\u001b[0m\u001b[0;34m\u001b[0m\u001b[0m\n\u001b[0;32m----> 2\u001b[0;31m \u001b[0mplt\u001b[0m\u001b[0;34m.\u001b[0m\u001b[0mplot\u001b[0m\u001b[0;34m(\u001b[0m\u001b[0mmodel\u001b[0m\u001b[0;34m.\u001b[0m\u001b[0mhistory\u001b[0m\u001b[0;34m.\u001b[0m\u001b[0mhistory\u001b[0m\u001b[0;34m[\u001b[0m\u001b[0;34m'acc'\u001b[0m\u001b[0;34m]\u001b[0m\u001b[0;34m)\u001b[0m\u001b[0;34m\u001b[0m\u001b[0m\n\u001b[0m\u001b[1;32m      3\u001b[0m \u001b[0mplt\u001b[0m\u001b[0;34m.\u001b[0m\u001b[0mplot\u001b[0m\u001b[0;34m(\u001b[0m\u001b[0mmodel\u001b[0m\u001b[0;34m.\u001b[0m\u001b[0mhistory\u001b[0m\u001b[0;34m.\u001b[0m\u001b[0mhistory\u001b[0m\u001b[0;34m[\u001b[0m\u001b[0;34m'val_acc'\u001b[0m\u001b[0;34m]\u001b[0m\u001b[0;34m)\u001b[0m\u001b[0;34m\u001b[0m\u001b[0m\n\u001b[1;32m      4\u001b[0m \u001b[0mplt\u001b[0m\u001b[0;34m.\u001b[0m\u001b[0mtitle\u001b[0m\u001b[0;34m(\u001b[0m\u001b[0;34m'model accuracy'\u001b[0m\u001b[0;34m)\u001b[0m\u001b[0;34m\u001b[0m\u001b[0m\n\u001b[1;32m      5\u001b[0m \u001b[0mplt\u001b[0m\u001b[0;34m.\u001b[0m\u001b[0mylabel\u001b[0m\u001b[0;34m(\u001b[0m\u001b[0;34m'accuracy'\u001b[0m\u001b[0;34m)\u001b[0m\u001b[0;34m\u001b[0m\u001b[0m\n",
      "\u001b[0;31mAttributeError\u001b[0m: 'Sequential' object has no attribute 'history'"
     ]
    }
   ],
   "source": [
    "# Training summary of the model\n",
    "plt.plot(model.history.history['acc'])\n",
    "plt.plot(model.history.history['val_acc'])\n",
    "plt.title('model accuracy')\n",
    "plt.ylabel('accuracy')\n",
    "plt.xlabel('epoch')\n",
    "plt.legend(['train', 'test'], loc='upper left')\n",
    "plt.show()\n"
   ]
  },
  {
   "cell_type": "code",
   "execution_count": 13,
   "id": "valid-justice",
   "metadata": {},
   "outputs": [
    {
     "data": {
      "image/png": "[encoded data removed]",
      "text/plain": [
       "<matplotlib.figure.Figure at 0x7fcb3dcca7f0>"
      ]
     },
     "metadata": {
      "needs_background": "light"
     },
     "output_type": "display_data"
    }
   ],
   "source": [
    "# Loss summary of the model\n",
    "plt.plot(model.history.history['loss'])\n",
    "plt.plot(model.history.history['val_loss'])\n",
    "plt.title('model loss')\n",
    "plt.ylabel('loss')\n",
    "plt.xlabel('epoch')\n",
    "plt.legend(['train', 'test'], loc='upper right')\n",
    "plt.show()"
   ]
  },
  {
   "cell_type": "code",
   "execution_count": 37,
   "id": "similar-travel",
   "metadata": {},
   "outputs": [],
   "source": [
    "# Saving the Trained Model\n",
    "model.save('trained_model.h5')"
   ]
  },
  {
   "cell_type": "code",
   "execution_count": 9,
   "id": "intimate-hanging",
   "metadata": {},
   "outputs": [
    {
     "name": "stdout",
     "output_type": "stream",
     "text": [
      "WARNING:tensorflow:From /opt/anaconda3/envs/tfdeeplearning/lib/python3.5/site-packages/tensorflow_core/python/ops/init_ops.py:97: calling GlorotUniform.__init__ (from tensorflow.python.ops.init_ops) with dtype is deprecated and will be removed in a future version.\n",
      "Instructions for updating:\n",
      "Call initializer instance with the dtype argument instead of passing it to the constructor\n",
      "WARNING:tensorflow:From /opt/anaconda3/envs/tfdeeplearning/lib/python3.5/site-packages/tensorflow_core/python/ops/init_ops.py:97: calling Zeros.__init__ (from tensorflow.python.ops.init_ops) with dtype is deprecated and will be removed in a future version.\n",
      "Instructions for updating:\n",
      "Call initializer instance with the dtype argument instead of passing it to the constructor\n",
      "191/191 [==============================] - 16s 85ms/step - loss: 0.6928 - acc: 0.5095\n",
      "Trained model accuracy 50.95%\n"
     ]
    }
   ],
   "source": [
    "# Loading the trained model\n",
    "loaded_model = tf.keras.models.load_model('trained_model.h5')\n",
    "\n",
    "loss,acc = loaded_model.evaluate(test_datagen)\n",
    "print('Trained model accuracy {:5.2f}%'.format(100 * acc))"
   ]
  },
  {
   "cell_type": "code",
   "execution_count": 10,
   "id": "suited-happiness",
   "metadata": {},
   "outputs": [],
   "source": [
    "## Using the Model to make Predictions\n",
    "\n",
    "def predictImage(filepath):\n",
    "    \n",
    "    img1 = image.load_img(filepath, target_size = (150,150))\n",
    "    \n",
    "    plt.imshow(img1)\n",
    "    \n",
    "    Y = image.img_to_array(img1)\n",
    "    X = np.expand_dims(Y, axis=0)\n",
    "    \n",
    "    result = loaded_model.predict(X)\n",
    "    \n",
    "    print(result)\n",
    "        \n",
    "    if result >= 0.5:\n",
    "        \n",
    "        print('Prediction: The cell in the image is malignant or IDC positive')\n",
    "        \n",
    "    \n",
    "    elif result < 0.5:\n",
    "        \n",
    "        print('Prediction: The cell in the image is benign or IDC negative')"
   ]
  },
  {
   "cell_type": "code",
   "execution_count": 11,
   "id": "iraqi-projection",
   "metadata": {},
   "outputs": [],
   "source": [
    "# Making Predictions of random images"
   ]
  },
  {
   "cell_type": "code",
   "execution_count": 61,
   "id": "surprising-priest",
   "metadata": {},
   "outputs": [
    {
     "name": "stdout",
     "output_type": "stream",
     "text": [
      "[[0.499796]]\n",
      "Prediction: The cell in the image is benign or IDC negative\n"
     ]
    },
    {
     "data": {
      "image/png": "[encoded data removed]",
      "text/plain": [
       "<matplotlib.figure.Figure at 0x7ffcfaf19dd8>"
      ]
     },
     "metadata": {
      "needs_background": "light"
     },
     "output_type": "display_data"
    }
   ],
   "source": [
    "predictImage(r\"/Users/trishit/Code/Udemy/Tensorflow-Bootcamp/Breast-Cancer-Prediction-using-Deep-Learning/sample-biopsy-images/6.png\")"
   ]
  },
  {
   "cell_type": "code",
   "execution_count": null,
   "id": "everyday-agency",
   "metadata": {},
   "outputs": [],
   "source": []
  }
 ],
 "metadata": {
  "kernelspec": {
   "display_name": "Python 3",
   "language": "python",
   "name": "python3"
  },
  "language_info": {
   "codemirror_mode": {
    "name": "ipython",
    "version": 3
   },
   "file_extension": ".py",
   "mimetype": "text/x-python",
   "name": "python",
   "nbconvert_exporter": "python",
   "pygments_lexer": "ipython3",
   "version": "3.5.4"
  }
 },
 "nbformat": 4,
 "nbformat_minor": 5
}
